{
 "cells": [
  {
   "cell_type": "code",
   "execution_count": null,
   "id": "45fdf0ef",
   "metadata": {},
   "outputs": [],
   "source": [
    "import numpy as np\n",
    "import pandas as pd\n",
    "import matplotlib.pyplot as plt\n",
    "import seaborn as sns\n",
    "%matplotlib inline\n",
    "\n",
    "import plotly.express as px\n",
    "import plotly.graph_objs as go\n",
    "from plotly.offline import iplot"
   ]
  },
  {
   "cell_type": "code",
   "execution_count": null,
   "id": "927f0709",
   "metadata": {},
   "outputs": [],
   "source": [
    "dataset = pd.read_csv('KQC7016_Week9_SalaryData.csv')\n",
    "dataset.info()"
   ]
  },
  {
   "cell_type": "code",
   "execution_count": null,
   "id": "23199336",
   "metadata": {},
   "outputs": [],
   "source": [
    "dataset.style.background_gradient(cmap='Oranges')"
   ]
  },
  {
   "cell_type": "code",
   "execution_count": null,
   "id": "e92a029a",
   "metadata": {},
   "outputs": [],
   "source": [
    "dataset.describe().style.background_gradient(cmap='pink_r')"
   ]
  },
  {
   "cell_type": "code",
   "execution_count": null,
   "id": "8f6627a1",
   "metadata": {},
   "outputs": [],
   "source": [
    "fig = px.imshow(dataset.corr())\n",
    "fig.show()"
   ]
  },
  {
   "cell_type": "code",
   "execution_count": null,
   "id": "281db156",
   "metadata": {},
   "outputs": [],
   "source": [
    "sns.pairplot(dataset)"
   ]
  },
  {
   "cell_type": "code",
   "execution_count": null,
   "id": "894943e8",
   "metadata": {},
   "outputs": [],
   "source": [
    "scatter = [go.Scatter(x = dataset['YearsExperience'],\n",
    "                      y = dataset['Salary'],\n",
    "                      mode ='markers')] \n",
    "fig = go.Figure(scatter)\n",
    "iplot(fig)"
   ]
  },
  {
   "cell_type": "code",
   "execution_count": null,
   "id": "7602a841",
   "metadata": {},
   "outputs": [],
   "source": [
    "hist = [go.Histogram(x = dataset['YearsExperience'],\\\n",
    "                     marker=dict(color ='#AFE400',line = dict(color='black',width=2)))]\n",
    "fig = go.Figure(data = hist)\n",
    "iplot(fig)"
   ]
  },
  {
   "cell_type": "code",
   "execution_count": null,
   "id": "3da490b3",
   "metadata": {},
   "outputs": [],
   "source": [
    "hist = [go.Histogram(x = dataset['Salary'],\\\n",
    "                     marker=dict(color ='#ECE519',line = dict(color='black',width=2)))]\n",
    "\n",
    "fig = go.Figure(data = hist)\n",
    "\n",
    "iplot(fig)"
   ]
  },
  {
   "cell_type": "code",
   "execution_count": null,
   "id": "bc011045",
   "metadata": {},
   "outputs": [],
   "source": [
    "X = dataset.iloc[:, :-1].values\n",
    "y = dataset.iloc[:, -1].values\n",
    "from sklearn.model_selection import train_test_split\n",
    "X_train,X_test,y_train,y_test = train_test_split(X,y,test_size=.33,random_state=42)"
   ]
  },
  {
   "cell_type": "code",
   "execution_count": null,
   "id": "536881d5",
   "metadata": {},
   "outputs": [],
   "source": [
    "from sklearn.linear_model import LinearRegression\n",
    "lr = LinearRegression()\n",
    "lr.fit(X_train, y_train)"
   ]
  },
  {
   "cell_type": "code",
   "execution_count": null,
   "id": "6a20db61",
   "metadata": {},
   "outputs": [],
   "source": [
    "y_pred = lr.predict(X_test)"
   ]
  },
  {
   "cell_type": "code",
   "execution_count": null,
   "id": "a0323ef9",
   "metadata": {},
   "outputs": [],
   "source": [
    "x_range = np.linspace(X.min(), X.max(), 100)\n",
    "y_range = lr.predict(x_range.reshape(-1, 1))\n",
    "\n",
    "fig = go.Figure([\n",
    "        go.Scatter(x=X_train.squeeze(), y=y_train, \n",
    "                   name='train', mode='markers'),\n",
    "        go.Scatter(x=X_test.squeeze(), y=y_test, \n",
    "                   name='test', mode='markers'),\n",
    "        go.Scatter(x=x_range, y=y_range, \n",
    "                   name='prediction')\n",
    "    ])\n",
    "\n",
    "fig.show()"
   ]
  },
  {
   "cell_type": "code",
   "execution_count": null,
   "id": "88b65ce5",
   "metadata": {},
   "outputs": [],
   "source": [
    "#y = bx + a; b = coefficient, a = intercept\n",
    "print(\"Coefficient  :\" , lr.coef_)\n",
    "print(\"Intercept : \", lr.intercept_)"
   ]
  },
  {
   "cell_type": "code",
   "execution_count": null,
   "id": "68db94a8",
   "metadata": {},
   "outputs": [],
   "source": [
    "print(lr.predict([[11]]))"
   ]
  },
  {
   "cell_type": "code",
   "execution_count": null,
   "id": "bf27a3cc",
   "metadata": {},
   "outputs": [],
   "source": [
    "from sklearn import metrics\n",
    "print('Mean Squared Error (MSE)  : ', metrics.mean_squared_error(y_test, y_pred))"
   ]
  },
  {
   "cell_type": "code",
   "execution_count": null,
   "id": "4a4fe453",
   "metadata": {},
   "outputs": [],
   "source": [
    "!pip install statsmodels\n",
    "import statsmodels.api as sm\n",
    "X_stat = sm.add_constant(X_train)\n",
    "regsummary = sm.OLS(y_train, X_stat).fit()\n",
    "from sklearn.metrics import r2_score\n",
    "regsummary.summary()"
   ]
  },
  {
   "cell_type": "code",
   "execution_count": null,
   "id": "f56b56a8",
   "metadata": {},
   "outputs": [],
   "source": [
    "from sklearn.metrics import r2_score\n",
    "r2_score(y_train, lr.predict(X_train))"
   ]
  },
  {
   "cell_type": "code",
   "execution_count": null,
   "id": "db084995-c136-4d76-b69e-cfc44ea2f529",
   "metadata": {},
   "outputs": [],
   "source": []
  }
 ],
 "metadata": {
  "kernelspec": {
   "display_name": "Python [conda env:base] *",
   "language": "python",
   "name": "conda-base-py"
  },
  "language_info": {
   "codemirror_mode": {
    "name": "ipython",
    "version": 3
   },
   "file_extension": ".py",
   "mimetype": "text/x-python",
   "name": "python",
   "nbconvert_exporter": "python",
   "pygments_lexer": "ipython3",
   "version": "3.11.5"
  }
 },
 "nbformat": 4,
 "nbformat_minor": 5
}
